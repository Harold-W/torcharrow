{
  "metadata": {
    "language_info": {
      "codemirror_mode": {
        "name": "ipython",
        "version": 3
      },
      "file_extension": ".py",
      "mimetype": "text/x-python",
      "name": "python",
      "nbconvert_exporter": "python",
      "pygments_lexer": "ipython3",
      "version": "3.8.5"
    },
    "orig_nbformat": 2,
    "kernelspec": {
      "name": "bento_kernel_pytorch",
      "display_name": "pytorch",
      "language": "python",
      "metadata": {
        "kernel_name": "bento_kernel_pytorch",
        "nightly_builds": true,
        "fbpkg_supported": true,
        "is_prebuilt": true
      }
    },
    "metadata": {
      "interpreter": {
        "hash": "7812ea015bdcee6f23a998adcdd2ef97c151c0c241b7b7070987d9313e41299d"
      }
    },
    "last_server_session_id": "2b839861-3e9c-4dc2-b535-72671f7645f3",
    "last_kernel_id": "119a376c-d69f-47dd-9679-89b4e1651884",
    "last_base_url": "https://devvm1776.ftw0.facebook.com:8090/",
    "last_msg_id": "4cd56e95-a92c567935138befea88bb19_285"
  },
  "nbformat": 4,
  "nbformat_minor": 2,
  "cells": [
    {
      "cell_type": "markdown",
      "metadata": {
        "originalKey": "73cd86a3-a72a-4261-8e67-e41f323a8bfb",
        "showInput": false,
        "code_folding": [],
        "hidden_ranges": []
      },
      "source": [
        "# TorchArrow in 10 minutes\n",
        "\n",
        "TorchArrow is a torch.Tensor-like, Pandas inspired Python DataFrame library for data preprocessing in deep learning. It supports multiple execution runtimes and Arrow as a common format.\n",
        "\n",
        "(Remark. In case the following looks familiar, it is with gratitude that portions of this tutorial were borrowed and adapted from the 10 Minutes to Pandas (and CuDF) tutorial.)\n",
        "\n",
        ""
      ]
    },
    {
      "cell_type": "markdown",
      "metadata": {
        "originalKey": "451c655c-3659-411f-a2a6-167fe85b488f"
      },
      "source": [
        "The TorchArrow library consists of 3 parts: \n",
        "\n",
        "  * *DTypes* define *Schema*, *Fields*, primitive and composite *Types*. \n",
        "  * *Columns* defines sequences of strongly typed data with vectorized operations.\n",
        "  * *Dataframes*  are sequences of named and typed columns of same length with relational operations.  \n",
        "\n",
        "Let's get started..."
      ]
    },
    {
      "cell_type": "code",
      "metadata": {
        "originalKey": "e0a514c3-aaa6-48c7-8630-1b1e9d202f72",
        "code_folding": [],
        "hidden_ranges": [],
        "collapsed": false,
        "requestMsgId": "94c1c035-5201-461f-8f16-c3748496535f",
        "executionStartTime": 1633988330923,
        "executionStopTime": 1633988331523
      },
      "source": [
        "import torcharrow as ta\n",
        "import torcharrow.dtypes as dt\n",
        ""
      ],
      "execution_count": 1,
      "outputs": []
    },
    {
      "cell_type": "markdown",
      "metadata": {
        "originalKey": "2a588acd-5f17-4584-a7df-c046f870bcbb"
      },
      "source": [
        "## Constructing data: Columns\n",
        "\n",
        "### From Pandas to TorchArrow\n",
        "To start let's create a Panda series and a TorchArrow column and compare them:"
      ]
    },
    {
      "cell_type": "code",
      "metadata": {
        "originalKey": "ce7aef00-da2c-4ef2-a35e-9a3452fe8d80",
        "collapsed": false,
        "requestMsgId": "2be4585e-dd9b-4b6f-ad1b-41ec23e55a4e",
        "executionStartTime": 1633988331535,
        "executionStopTime": 1633988331711,
        "code_folding": [],
        "hidden_ranges": []
      },
      "source": [
        "import pandas as pd\n",
        "\n",
        "\n",
        "pd.Series([1, 2, None, 4])\n",
        ""
      ],
      "execution_count": 2,
      "outputs": [
        {
          "output_type": "execute_result",
          "data": {
            "text/plain": "0    1.0\n1    2.0\n2    NaN\n3    4.0\ndtype: float64",
            "application/vnd.dataresource+json": {
              "schema": {
                "fields": [
                  {
                    "name": "index",
                    "type": "integer"
                  },
                  {
                    "name": "values",
                    "type": "number"
                  }
                ],
                "primaryKey": [
                  "index"
                ],
                "pandas_version": "0.20.0"
              },
              "data": [
                {
                  "index": 0,
                  "values": 1
                },
                {
                  "index": 1,
                  "values": 2
                },
                {
                  "index": 2,
                  "values": null
                },
                {
                  "index": 3,
                  "values": 4
                }
              ]
            }
          },
          "metadata": {
            "bento_obj_id": "139691096007728"
          },
          "execution_count": 2
        }
      ]
    },
    {
      "cell_type": "markdown",
      "metadata": {
        "originalKey": "0ed4e1c8-7afc-46ae-8c20-af82b76b31bd"
      },
      "source": [
        "In Pandas each Series has an index, here depicted as the first column. Note also that the inferred type is float and not int, since in Pandas None implicitly  promotes an int list to a float series."
      ]
    },
    {
      "cell_type": "markdown",
      "metadata": {
        "originalKey": "68c90431-fa1e-4838-a2fd-0bd98a0d836c"
      },
      "source": [
        "TorchArrow has a much more precise type system:"
      ]
    },
    {
      "cell_type": "code",
      "metadata": {
        "originalKey": "47ecc86e-b576-4f98-8395-75606033501f",
        "collapsed": false,
        "requestMsgId": "fb49942c-b725-4bd9-aa0e-3156aa40ab59",
        "executionStartTime": 1633988331714,
        "executionStopTime": 1633988331799,
        "code_folding": [],
        "hidden_ranges": []
      },
      "source": [
        "s = ta.Column([1, 2, None, 4])\n",
        "s\n",
        ""
      ],
      "execution_count": 3,
      "outputs": [
        {
          "output_type": "execute_result",
          "data": {
            "text/plain": "0  1\n1  2\n2  None\n3  4\ndtype: Int64(nullable=True), length: 4, null_count: 1"
          },
          "metadata": {
            "bento_obj_id": "139691096008304"
          },
          "execution_count": 3
        }
      ]
    },
    {
      "cell_type": "markdown",
      "metadata": {
        "originalKey": "fde4a7b6-3a80-421a-a730-12f9a6d0a1dd",
        "showInput": false,
        "code_folding": [],
        "hidden_ranges": []
      },
      "source": [
        "TorchArrow infers that that the type is `Int64(nullable=True)`. Of course, we can always get lots of more information from a column: the length, count, null_count determine the total number, the number of non-null, and the number of nulls, respectively.\n",
        "\n",
        "\n",
        ""
      ]
    },
    {
      "cell_type": "code",
      "metadata": {
        "originalKey": "488717d5-3f3d-4bca-918d-c84ecf9a4b1b",
        "code_folding": [],
        "hidden_ranges": [],
        "collapsed": false,
        "requestMsgId": "4346ceb7-148c-4d42-820d-1960b32337b5",
        "executionStartTime": 1633988331808,
        "executionStopTime": 1633988331894
      },
      "source": [
        "len(s), s.count(), s.null_count()\n",
        ""
      ],
      "execution_count": 4,
      "outputs": [
        {
          "output_type": "execute_result",
          "data": {
            "text/plain": "(4, 3, 1)"
          },
          "metadata": {
            "bento_obj_id": "139691091033152"
          },
          "execution_count": 4
        }
      ]
    },
    {
      "cell_type": "markdown",
      "metadata": {
        "originalKey": "ed6f3065-e448-4188-83e1-b9fed2d69b67",
        "showInput": false,
        "customInput": null,
        "code_folding": [],
        "hidden_ranges": []
      },
      "source": [
        "TorchArrow infers Python float as float32 (instead of float64). This follows PyTorch and other deep learning libraries. "
      ]
    },
    {
      "cell_type": "code",
      "metadata": {
        "originalKey": "465f1b0c-b340-4e63-851d-29f167e65504",
        "showInput": true,
        "customInput": null,
        "code_folding": [],
        "hidden_ranges": [],
        "collapsed": false,
        "requestMsgId": "3b6e4d17-172a-4725-8188-bc991420b704",
        "executionStartTime": 1633988331970,
        "executionStopTime": 1633988331978
      },
      "source": [
        "ss = ta.Column([2.718, 3.14, 42.42])\n",
        "ss\n",
        ""
      ],
      "execution_count": 5,
      "outputs": [
        {
          "output_type": "execute_result",
          "data": {
            "text/plain": "0   2.718\n1   3.14\n2  42.42\ndtype: float32, length: 3, null_count: 0"
          },
          "metadata": {
            "bento_obj_id": "139691090197088"
          },
          "execution_count": 5
        }
      ]
    },
    {
      "cell_type": "markdown",
      "metadata": {
        "originalKey": "448213ff-12f5-4856-b432-970e84b13f2c",
        "showInput": false
      },
      "source": [
        "TorchArrow supports (almost all of Arrow types), including arbitrarily nested structs, maps, lists, and fixed size lists. Here is a non-nullable column of a list of non-nullable strings of arbitrary length."
      ]
    },
    {
      "cell_type": "code",
      "metadata": {
        "originalKey": "54555153-8c73-4bac-ab4a-440ddd674e17",
        "collapsed": false,
        "requestMsgId": "fd9365ca-6cb7-4b40-9490-77345cf70ab2",
        "executionStartTime": 1633988332063,
        "executionStopTime": 1633988332071,
        "code_folding": [],
        "hidden_ranges": []
      },
      "source": [
        "sf = ta.Column([[\"hello\", \"world\"], [\"how\", \"are\", \"you\"]], dtype=dt.List(dt.string))\n",
        "sf.dtype\n",
        ""
      ],
      "execution_count": 6,
      "outputs": [
        {
          "output_type": "execute_result",
          "data": {
            "text/plain": "List(item_dtype=String(nullable=False), nullable=False, fixed_size=-1)"
          },
          "metadata": {
            "bento_obj_id": "139691332408704"
          },
          "execution_count": 6
        }
      ]
    },
    {
      "cell_type": "markdown",
      "metadata": {
        "originalKey": "d2a20c9e-9d14-41eb-8dd5-5c2eb80f3c77"
      },
      "source": [
        "And here is a column of average climate data, one map per continent, with city as key and yearly average min and max temperature:\n",
        ""
      ]
    },
    {
      "cell_type": "code",
      "metadata": {
        "originalKey": "ff7431cb-89a3-4cfa-9820-56fe4122b1b3",
        "collapsed": false,
        "requestMsgId": "263c5539-3599-48d1-9b3a-115bfa61fc46",
        "executionStartTime": 1633988332081,
        "executionStopTime": 1633988332174,
        "code_folding": [],
        "hidden_ranges": []
      },
      "source": [
        "mf = ta.Column(\n",
        "    [\n",
        "        {\"helsinki\": [-1.3, 21.5], \"moscow\": [-4.0, 24.3]},\n",
        "        {\"algiers\": [11.2, 25.2], \"kinshasa\": [22.2, 26.8]},\n",
        "    ]\n",
        ")\n",
        "mf\n",
        ""
      ],
      "execution_count": 7,
      "outputs": [
        {
          "output_type": "execute_result",
          "data": {
            "text/plain": "0  {'helsinki': [-1.3, 21.5], 'moscow': [-4.0, 24.3]}\n1  {'algiers': [11.2, 25.2], 'kinshasa': [22.2, 26.8]}\ndtype: Map(string, List(float32)), length: 2, null_count: 0"
          },
          "metadata": {
            "bento_obj_id": "139691332409952"
          },
          "execution_count": 7
        }
      ]
    },
    {
      "cell_type": "markdown",
      "metadata": {
        "originalKey": "7364bc17-f164-40db-90a5-1d408946f991"
      },
      "source": [
        "### Append and concat"
      ]
    },
    {
      "cell_type": "markdown",
      "metadata": {
        "originalKey": "ec96f726-921c-42eb-b9d3-30442097c0a7",
        "showInput": false,
        "code_folding": [],
        "hidden_ranges": []
      },
      "source": [
        "Columns are immutable. Use `append` to create a new column with a list of values appended. "
      ]
    },
    {
      "cell_type": "code",
      "metadata": {
        "originalKey": "9019133f-dc38-4091-9855-bf660e4636e6",
        "code_folding": [],
        "hidden_ranges": [],
        "collapsed": false,
        "requestMsgId": "aa4e87f4-9416-4f2a-9b54-198da9c22e3a",
        "executionStartTime": 1633988332183,
        "executionStopTime": 1633988332196
      },
      "source": [
        "sf = sf.append([[\"I\", \"am\", \"fine\", \"and\", \"you\"]])\n",
        "sf\n",
        ""
      ],
      "execution_count": 8,
      "outputs": [
        {
          "output_type": "execute_result",
          "data": {
            "text/plain": "0  ['hello', 'world']\n1  ['how', 'are', 'you']\n2  ['I', 'am', 'fine', 'and', 'you']\ndtype: List(string), length: 3, null_count: 0"
          },
          "metadata": {
            "bento_obj_id": "139691332409760"
          },
          "execution_count": 8
        }
      ]
    },
    {
      "cell_type": "markdown",
      "metadata": {
        "originalKey": "73c22f23-0c63-49d6-8397-619f4d81d03f",
        "showInput": false,
        "customInput": null,
        "code_folding": [],
        "hidden_ranges": []
      },
      "source": [
        "Use `concat` to combine a list of columns."
      ]
    },
    {
      "cell_type": "code",
      "metadata": {
        "originalKey": "44469ea4-25e2-4a7c-ae67-8438d94ba76c",
        "showInput": true,
        "customInput": null,
        "code_folding": [],
        "hidden_ranges": [],
        "collapsed": false,
        "requestMsgId": "03678b24-be97-4b04-8cbd-fa6a2830ea5c",
        "executionStartTime": 1633988332301,
        "executionStopTime": 1633988332321
      },
      "source": [
        "# TODO: Fix this!\n",
        "# sf = sf.concat([ta.Column(\"I\", \"am\", \"fine\", \"too\")]\n",
        ""
      ],
      "execution_count": 9,
      "outputs": []
    },
    {
      "cell_type": "markdown",
      "metadata": {
        "originalKey": "95fb93b9-4e30-4934-9987-1f5a71783c25",
        "showInput": false
      },
      "source": [
        "## Constructing data: Dataframes\n",
        "\n",
        "A Dataframe is just a set of named and strongly typed columns of equal length:"
      ]
    },
    {
      "cell_type": "code",
      "metadata": {
        "originalKey": "263b8b05-4e16-43c2-9045-dbb7f16464c1",
        "code_folding": [],
        "hidden_ranges": [],
        "collapsed": false,
        "requestMsgId": "fdbb0894-4b50-4bc1-8e71-29c7683956e8",
        "executionStartTime": 1633988332403,
        "executionStopTime": 1633988332417
      },
      "source": [
        "df = ta.DataFrame(\n",
        "    {\"a\": list(range(7)), \"b\": list(reversed(range(7))), \"c\": list(range(7))}\n",
        ")\n",
        "df\n",
        ""
      ],
      "execution_count": 10,
      "outputs": [
        {
          "output_type": "execute_result",
          "data": {
            "text/plain": "  index    a    b    c\n-------  ---  ---  ---\n      0    0    6    0\n      1    1    5    1\n      2    2    4    2\n      3    3    3    3\n      4    4    2    4\n      5    5    1    5\n      6    6    0    6\ndtype: Struct([Field('a', int64), Field('b', int64), Field('c', int64)]), count: 7, null_count: 0"
          },
          "metadata": {
            "bento_obj_id": "139691090026016"
          },
          "execution_count": 10
        }
      ]
    },
    {
      "cell_type": "markdown",
      "metadata": {
        "originalKey": "bc9bb72a-693b-4ecc-a83c-87c59727a152"
      },
      "source": [
        "To access a dataframes columns write:"
      ]
    },
    {
      "cell_type": "code",
      "metadata": {
        "originalKey": "f5995657-5ae2-4741-b056-83993295114b",
        "collapsed": false,
        "requestMsgId": "3f290b55-eb1a-445a-ab57-93aadff013b4",
        "executionStartTime": 1633988332419,
        "executionStopTime": 1633988332431,
        "code_folding": [],
        "hidden_ranges": []
      },
      "source": [
        "df.columns\n",
        ""
      ],
      "execution_count": 11,
      "outputs": [
        {
          "output_type": "execute_result",
          "data": {
            "text/plain": "['a', 'b', 'c']"
          },
          "metadata": {
            "bento_obj_id": "139691089840576"
          },
          "execution_count": 11
        }
      ]
    },
    {
      "cell_type": "markdown",
      "metadata": {
        "originalKey": "9a4e94b1-54c6-4ec9-b705-63d5bf22ad3e",
        "showInput": false,
        "code_folding": [],
        "hidden_ranges": []
      },
      "source": [
        "Dataframes are also immutable, except you can always add a new column or overwrite an existing column. \n",
        "\n",
        "When a new column is added, it is appended to the set of existing columns at the end."
      ]
    },
    {
      "cell_type": "code",
      "metadata": {
        "originalKey": "9962ee05-cc01-4a94-ba07-6ddd2530e003",
        "collapsed": false,
        "requestMsgId": "2542d3ec-69ea-4c63-9f89-8f3a95755a43",
        "executionStartTime": 1633988332435,
        "executionStopTime": 1633988332525,
        "code_folding": [],
        "hidden_ranges": []
      },
      "source": [
        "df[\"d\"] = ta.Column(list(range(99, 99 + 7)))\n",
        "df\n",
        ""
      ],
      "execution_count": 12,
      "outputs": [
        {
          "output_type": "execute_result",
          "data": {
            "text/plain": "  index    a    b    c    d\n-------  ---  ---  ---  ---\n      0    0    6    0   99\n      1    1    5    1  100\n      2    2    4    2  101\n      3    3    3    3  102\n      4    4    2    4  103\n      5    5    1    5  104\n      6    6    0    6  105\ndtype: Struct([Field('a', int64), Field('b', int64), Field('c', int64), Field('d', int64)]), count: 7, null_count: 0"
          },
          "metadata": {
            "bento_obj_id": "139691090026016"
          },
          "execution_count": 12
        }
      ]
    },
    {
      "cell_type": "markdown",
      "metadata": {
        "originalKey": "fc987684-b884-4964-8c4a-3969472406bd",
        "showInput": false,
        "customInput": null,
        "code_folding": [],
        "hidden_ranges": []
      },
      "source": [
        "You can also overwrite an existing column."
      ]
    },
    {
      "cell_type": "code",
      "metadata": {
        "originalKey": "63ae6a60-b641-4c20-aaed-b81cbcf0c368",
        "showInput": true,
        "customInput": null,
        "code_folding": [],
        "hidden_ranges": [],
        "collapsed": false,
        "requestMsgId": "8ddeb5dc-db38-4914-b497-17fd2716dde9",
        "executionStartTime": 1633988332622,
        "executionStopTime": 1633988332632
      },
      "source": [
        "df[\"c\"] = df[\"b\"] * 2\n",
        "df\n",
        ""
      ],
      "execution_count": 13,
      "outputs": [
        {
          "output_type": "execute_result",
          "data": {
            "text/plain": "  index    a    b    c    d\n-------  ---  ---  ---  ---\n      0    0    6   12   99\n      1    1    5   10  100\n      2    2    4    8  101\n      3    3    3    6  102\n      4    4    2    4  103\n      5    5    1    2  104\n      6    6    0    0  105\ndtype: Struct([Field('a', int64), Field('b', int64), Field('c', int64), Field('d', int64)]), count: 7, null_count: 0"
          },
          "metadata": {
            "bento_obj_id": "139691090026016"
          },
          "execution_count": 13
        }
      ]
    },
    {
      "cell_type": "markdown",
      "metadata": {
        "originalKey": "7dd388a3-3a73-49cc-972c-07419f5d1e8b",
        "showInput": false,
        "customInput": null,
        "code_folding": [],
        "hidden_ranges": []
      },
      "source": [
        "Similar to Column, we can also use `append` to create a new DataFrame with a listed of tuples appended."
      ]
    },
    {
      "cell_type": "code",
      "metadata": {
        "originalKey": "2f6a9393-3776-48e6-9584-0fa590dccc5d",
        "showInput": true,
        "customInput": null,
        "code_folding": [],
        "hidden_ranges": [],
        "collapsed": false,
        "requestMsgId": "f06344a5-d82a-4d2e-a9bb-d0b9db2ee919",
        "executionStartTime": 1633988332640,
        "executionStopTime": 1633988332729
      },
      "source": [
        "df = df.append([(7, 77, 777, 7777), (8, 88, 888, 8888)])\n",
        "df\n",
        ""
      ],
      "execution_count": 14,
      "outputs": [
        {
          "output_type": "execute_result",
          "data": {
            "text/plain": "  index    a    b    c     d\n-------  ---  ---  ---  ----\n      0    0    6   12    99\n      1    1    5   10   100\n      2    2    4    8   101\n      3    3    3    6   102\n      4    4    2    4   103\n      5    5    1    2   104\n      6    6    0    0   105\n      7    7   77  777  7777\n      8    8   88  888  8888\ndtype: Struct([Field('a', int64), Field('b', int64), Field('c', int64), Field('d', int64)]), count: 9, null_count: 0"
          },
          "metadata": {
            "bento_obj_id": "139691089878800"
          },
          "execution_count": 14
        }
      ]
    },
    {
      "cell_type": "markdown",
      "metadata": {
        "originalKey": "49c91668-021b-4a21-a2c2-0e3783e9a43d"
      },
      "source": [
        "Dataframes can be nested. Here is a Dataframe having sub-dataframes. \n",
        ""
      ]
    },
    {
      "cell_type": "code",
      "metadata": {
        "originalKey": "eced179d-f5b2-47e8-83cc-308d50c22fbb",
        "code_folding": [],
        "hidden_ranges": [],
        "collapsed": false,
        "requestMsgId": "e7557899-8bff-474d-ae29-14535eb0f8cd",
        "executionStartTime": 1633988332738,
        "executionStopTime": 1633988332745
      },
      "source": [
        "df_inner = ta.DataFrame({\"b1\": [11, 22, 33], \"b2\": [111, 222, 333]})\n",
        "df_outer = ta.DataFrame({\"a\": [1, 2, 3], \"b\": df_inner})\n",
        "df_outer\n",
        ""
      ],
      "execution_count": 15,
      "outputs": [
        {
          "output_type": "execute_result",
          "data": {
            "text/plain": "  index    a  b\n-------  ---  ---------\n      0    1  (11, 111)\n      1    2  (22, 222)\n      2    3  (33, 333)\ndtype: Struct([Field('a', int64), Field('b', Struct([Field('b1', int64), Field('b2', int64)]))]), count: 3, null_count: 0"
          },
          "metadata": {
            "bento_obj_id": "139691089925984"
          },
          "execution_count": 15
        }
      ]
    },
    {
      "cell_type": "markdown",
      "metadata": {
        "originalKey": "2df9095e-601c-4347-84f3-942e7d3ab967",
        "showInput": false,
        "customInput": null,
        "code_folding": [],
        "hidden_ranges": []
      },
      "source": [
        "## Interop\n",
        "\n",
        "Coming soon!"
      ]
    },
    {
      "cell_type": "markdown",
      "metadata": {
        "originalKey": "dac4f933-1973-450b-8f0a-644578fc0c4f",
        "showInput": false
      },
      "source": [
        "## Viewing (sorted) data\n",
        "\n",
        "Take the the top n rows"
      ]
    },
    {
      "cell_type": "code",
      "metadata": {
        "originalKey": "3180fca1-a87b-4fb9-bb7f-860b18a0c99a",
        "collapsed": false,
        "requestMsgId": "498a15e2-d232-43e2-b4a9-0d291270a0dc",
        "executionStartTime": 1633988332833,
        "executionStopTime": 1633988332846
      },
      "source": [
        "df.head(2)\n",
        ""
      ],
      "execution_count": 16,
      "outputs": [
        {
          "output_type": "execute_result",
          "data": {
            "text/plain": "  index    a    b    c    d\n-------  ---  ---  ---  ---\n      0    0    6   12   99\n      1    1    5   10  100\ndtype: Struct([Field('a', int64), Field('b', int64), Field('c', int64), Field('d', int64)]), count: 2, null_count: 0"
          },
          "metadata": {
            "bento_obj_id": "139691089937024"
          },
          "execution_count": 16
        }
      ]
    },
    {
      "cell_type": "markdown",
      "metadata": {
        "originalKey": "8d0e888a-9b61-4ed7-9620-42664bf47ca7"
      },
      "source": [
        "Or return the last n rows"
      ]
    },
    {
      "cell_type": "code",
      "metadata": {
        "originalKey": "dfecd6ab-dbb1-4b00-9bea-bb7411fd2a1c",
        "collapsed": false,
        "requestMsgId": "126216fd-309d-4103-ba7e-adf5838f8fee",
        "executionStartTime": 1633988332927,
        "executionStopTime": 1633988332936
      },
      "source": [
        "df.tail(1)\n",
        ""
      ],
      "execution_count": 17,
      "outputs": [
        {
          "output_type": "execute_result",
          "data": {
            "text/plain": "  index    a    b    c     d\n-------  ---  ---  ---  ----\n      0    8   88  888  8888\ndtype: Struct([Field('a', int64), Field('b', int64), Field('c', int64), Field('d', int64)]), count: 1, null_count: 0"
          },
          "metadata": {
            "bento_obj_id": "139691089927088"
          },
          "execution_count": 17
        }
      ]
    },
    {
      "cell_type": "markdown",
      "metadata": {
        "originalKey": "e193fa96-4ee5-4132-85a2-ecd32e653a45"
      },
      "source": [
        "or sort the values before hand."
      ]
    },
    {
      "cell_type": "code",
      "metadata": {
        "originalKey": "76772c2e-85eb-464f-9b7d-ff647c7d5915",
        "collapsed": false,
        "requestMsgId": "b450dd3b-8287-4738-b239-7009dc1d3f40",
        "executionStartTime": 1633988333017,
        "executionStopTime": 1633988333031
      },
      "source": [
        "df.sort(by=[\"c\", \"b\"]).head(2)\n",
        ""
      ],
      "execution_count": 18,
      "outputs": [
        {
          "output_type": "execute_result",
          "data": {
            "text/plain": "  index    a    b    c    d\n-------  ---  ---  ---  ---\n      0    6    0    0  105\n      1    5    1    2  104\ndtype: Struct([Field('a', int64), Field('b', int64), Field('c', int64), Field('d', int64)]), count: 2, null_count: 0"
          },
          "metadata": {
            "bento_obj_id": "139691089934560"
          },
          "execution_count": 18
        }
      ]
    },
    {
      "cell_type": "markdown",
      "metadata": {
        "originalKey": "595c3b1c-3730-46f3-9102-a4eea81084dd"
      },
      "source": [
        "Sorting can be controlled not only by which columns to sort on, but also whether to sort ascending or descending, and how to deal with nulls, are they listed first or last.  \n",
        "\n",
        "## Selection using Indices\n",
        "\n",
        "Torcharrow supports two indices:\n",
        " - Integer indices select rows\n",
        " - String indices select columns\n",
        "\n",
        "So projecting a single column of a dataframe is simply"
      ]
    },
    {
      "cell_type": "code",
      "metadata": {
        "originalKey": "c5b04b10-17a3-470d-8305-fbfaa9ecff07",
        "collapsed": false,
        "requestMsgId": "435a2616-45ba-4e0f-b081-b016f176ce87",
        "executionStartTime": 1633988333034,
        "executionStopTime": 1633988333120
      },
      "source": [
        "df['a']"
      ],
      "execution_count": 19,
      "outputs": [
        {
          "output_type": "execute_result",
          "data": {
            "text/plain": "0  0\n1  1\n2  2\n3  3\n4  4\n5  5\n6  6\n7  7\n8  8\ndtype: int64, length: 9, null_count: 0"
          },
          "metadata": {
            "bento_obj_id": "139691089877216"
          },
          "execution_count": 19
        }
      ]
    },
    {
      "cell_type": "markdown",
      "metadata": {
        "originalKey": "92611ff7-e990-4c05-becb-574d9aede91b",
        "showInput": false,
        "code_folding": [],
        "hidden_ranges": []
      },
      "source": [
        "Selecting a single row uses an integer index. (In TorchArrow everything is zero-based.)"
      ]
    },
    {
      "cell_type": "code",
      "metadata": {
        "originalKey": "61f580f0-e2e8-419d-9508-9a40d32215bf",
        "collapsed": false,
        "requestMsgId": "a428d72d-886d-4060-8c19-e787bd0fdcd1",
        "executionStartTime": 1633988333130,
        "executionStopTime": 1633988333211
      },
      "source": [
        "df[1]"
      ],
      "execution_count": 20,
      "outputs": [
        {
          "output_type": "execute_result",
          "data": {
            "text/plain": "(1, 5, 10, 100)"
          },
          "metadata": {
            "bento_obj_id": "139691089846976"
          },
          "execution_count": 20
        }
      ]
    },
    {
      "cell_type": "markdown",
      "metadata": {
        "originalKey": "1ea05b0c-6b68-4896-8aae-332682acf1ca"
      },
      "source": [
        "Selecting a slice keeps the type alive. Here we slice rows:\n",
        ""
      ]
    },
    {
      "cell_type": "code",
      "metadata": {
        "originalKey": "5b049bc4-a5c5-46c3-ac2e-d742ea303c47",
        "collapsed": false,
        "requestMsgId": "edc4e2cb-87ed-4c57-915d-ae81951ad6db",
        "executionStartTime": 1633988333221,
        "executionStopTime": 1633988333228
      },
      "source": [
        "df[2:6:2]"
      ],
      "execution_count": 21,
      "outputs": [
        {
          "output_type": "execute_result",
          "data": {
            "text/plain": "  index    a    b    c    d\n-------  ---  ---  ---  ---\n      0    2    4    8  101\n      1    4    2    4  103\ndtype: Struct([Field('a', int64), Field('b', int64), Field('c', int64), Field('d', int64)]), count: 2, null_count: 0"
          },
          "metadata": {
            "bento_obj_id": "139691090020528"
          },
          "execution_count": 21
        }
      ]
    },
    {
      "cell_type": "markdown",
      "metadata": {
        "originalKey": "d92f621c-7d21-46b7-adeb-f002da58305d"
      },
      "source": [
        "But you can also slice columns. The below return all columns after and including 'c'."
      ]
    },
    {
      "cell_type": "code",
      "metadata": {
        "originalKey": "6a861bb3-957b-4d7c-919b-e14782a3afcd",
        "collapsed": false,
        "requestMsgId": "63b11653-9ab3-43c2-800b-3fa2de2367c7",
        "executionStartTime": 1633988333303,
        "executionStopTime": 1633988333310
      },
      "source": [
        "df['c':]"
      ],
      "execution_count": 22,
      "outputs": [
        {
          "output_type": "execute_result",
          "data": {
            "text/plain": "  index    c     d\n-------  ---  ----\n      0   12    99\n      1   10   100\n      2    8   101\n      3    6   102\n      4    4   103\n      5    2   104\n      6    0   105\n      7  777  7777\n      8  888  8888\ndtype: Struct([Field('c', int64), Field('d', int64)]), count: 9, null_count: 0"
          },
          "metadata": {
            "bento_obj_id": "139691090018800"
          },
          "execution_count": 22
        }
      ]
    },
    {
      "cell_type": "markdown",
      "metadata": {
        "originalKey": "f560cc21-7d02-4997-99ca-2a53fd9dd1a4",
        "showInput": false,
        "code_folding": [],
        "hidden_ranges": []
      },
      "source": [
        "TorchArrow follows the normal Python semantics for slices: that is a slice interval is closed on the left and open on the right."
      ]
    },
    {
      "cell_type": "markdown",
      "metadata": {
        "originalKey": "a61b241e-7788-405e-941f-0d556d9732af"
      },
      "source": [
        "## Selection by Condition\n",
        "\n",
        "Selection of a column or dataframe *c* by a condition takes a boolean column *b* of the same length as *c*. If the *i*th row in *b* is true, *c*'s *i*th row is included in the result otherwise it is dropped. Below expression selects the first row, since it is true, and drops all remaining rows, since they are false.\n",
        "\n",
        ""
      ]
    },
    {
      "cell_type": "code",
      "metadata": {
        "originalKey": "4c2a91af-3fb0-49f5-aa53-43355c2cc87f",
        "collapsed": false,
        "requestMsgId": "ad9bfa3b-d6c8-45d6-864f-6b3954869f3a",
        "executionStartTime": 1633988333319,
        "executionStopTime": 1633988333393
      },
      "source": [
        "df[[True] + [False] * (len(df)-1)]"
      ],
      "execution_count": 23,
      "outputs": [
        {
          "output_type": "execute_result",
          "data": {
            "text/plain": "  index    a    b    c    d\n-------  ---  ---  ---  ---\n      0    0    6   12   99\ndtype: Struct([Field('a', int64), Field('b', int64), Field('c', int64), Field('d', int64)]), count: 1, null_count: 0"
          },
          "metadata": {
            "bento_obj_id": "139691089537824"
          },
          "execution_count": 23
        }
      ]
    },
    {
      "cell_type": "markdown",
      "metadata": {
        "originalKey": "8bec517a-9185-4d03-8f5b-3fc0af9a88c8"
      },
      "source": [
        "Conditional expressions over vectors return boolean vectors. Conditionals are thus the usual way to write filters. "
      ]
    },
    {
      "cell_type": "code",
      "metadata": {
        "originalKey": "6117294f-8e12-4082-b891-9f56b0130d90",
        "collapsed": false,
        "requestMsgId": "6496730a-c016-49a4-a436-7be4791e053b",
        "executionStartTime": 1633988333456,
        "executionStopTime": 1633988333464
      },
      "source": [
        "b = df['a'] > 4\n",
        "df[b]"
      ],
      "execution_count": 24,
      "outputs": [
        {
          "output_type": "execute_result",
          "data": {
            "text/plain": "  index    a    b    c     d\n-------  ---  ---  ---  ----\n      0    5    1    2   104\n      1    6    0    0   105\n      2    7   77  777  7777\n      3    8   88  888  8888\ndtype: Struct([Field('a', int64), Field('b', int64), Field('c', int64), Field('d', int64)]), count: 4, null_count: 0"
          },
          "metadata": {
            "bento_obj_id": "139691089686688"
          },
          "execution_count": 24
        }
      ]
    },
    {
      "cell_type": "markdown",
      "metadata": {
        "originalKey": "80dd74cf-031d-40f1-9862-795b5dc31223"
      },
      "source": [
        "Torcharrow supports all the usual predicates, like <,==,!=>,>=,<= as well as _in_. The later is denoted by `isin`\n",
        ""
      ]
    },
    {
      "cell_type": "code",
      "metadata": {
        "originalKey": "35960d05-d085-4a7a-8090-ab5647afe6b0",
        "collapsed": false,
        "requestMsgId": "04e901c7-eb60-47ba-9b01-5b69481f4177",
        "executionStartTime": 1633988333545,
        "executionStopTime": 1633988333558
      },
      "source": [
        "df[df['a'].isin([5])]"
      ],
      "execution_count": 25,
      "outputs": [
        {
          "output_type": "execute_result",
          "data": {
            "text/plain": "  index    a    b    c    d\n-------  ---  ---  ---  ---\n      0    5    1    2  104\ndtype: Struct([Field('a', int64), Field('b', int64), Field('c', int64), Field('d', int64)]), count: 1, null_count: 0"
          },
          "metadata": {
            "bento_obj_id": "139691322367472"
          },
          "execution_count": 25
        }
      ]
    },
    {
      "cell_type": "markdown",
      "metadata": {
        "originalKey": "443f67e4-59cd-407b-ac68-11d5ab336d8c"
      },
      "source": [
        "## Missing data\n",
        " Missing data can be filled in via the `fillna` method "
      ]
    },
    {
      "cell_type": "code",
      "metadata": {
        "originalKey": "7ab6cd8d-f29a-4534-998a-9140f4f0b561",
        "collapsed": false,
        "requestMsgId": "382b48a2-25a4-4f60-a0f0-4a156fd5a8fd",
        "executionStartTime": 1633988333560,
        "executionStopTime": 1633988333632
      },
      "source": [
        "t = s.fillna(999)\n",
        "t"
      ],
      "execution_count": 26,
      "outputs": [
        {
          "output_type": "execute_result",
          "data": {
            "text/plain": "0    1\n1    2\n2  999\n3    4\ndtype: int64, length: 4, null_count: 0"
          },
          "metadata": {
            "bento_obj_id": "139691089938320"
          },
          "execution_count": 26
        }
      ]
    },
    {
      "cell_type": "markdown",
      "metadata": {
        "originalKey": "34d3f52c-9635-485a-afdd-2d6056fa95da"
      },
      "source": [
        "Alternatively data that has null data can be dropped:"
      ]
    },
    {
      "cell_type": "code",
      "metadata": {
        "originalKey": "3e218b0c-52b6-4649-8536-8082d3f9b88a",
        "collapsed": false,
        "requestMsgId": "745a2164-ce40-48cf-8b94-d9a0bc93a39f",
        "executionStartTime": 1633988333696,
        "executionStopTime": 1633988333704
      },
      "source": [
        "s.dropna()"
      ],
      "execution_count": 27,
      "outputs": [
        {
          "output_type": "execute_result",
          "data": {
            "text/plain": "0  1\n1  2\n2  4\ndtype: int64, length: 3, null_count: 0"
          },
          "metadata": {
            "bento_obj_id": "139691089937840"
          },
          "execution_count": 27
        }
      ]
    },
    {
      "cell_type": "markdown",
      "metadata": {
        "originalKey": "a1812ef9-65ec-4131-a60a-bebc9742f0ee"
      },
      "source": [
        "## Operators\n",
        "Columns and dataframes support all of Python's usual binary operators, like  ==,!=,<=,<,>,>= for equality  and comparison,  +,-,*,,/.//,** for performing arithmetic and &,|,~ for conjunction, disjunction and negation. \n",
        "\n",
        "The semantics of each operator is given by lifting their scalar operation to vectors and dataframes. So given for instance a scalar comparison operator, in TorchArrow a scalar can be compared to each item in a column, two columns can be compared pointwise, a column can be compared to each column of a dataframe, and two dataframes can be compared by comparing each of their respective columns. \n",
        "\n",
        "Here are some example expressions:"
      ]
    },
    {
      "cell_type": "code",
      "metadata": {
        "originalKey": "c306e2f1-eda0-4028-9554-a23fad1a3c14",
        "collapsed": false,
        "requestMsgId": "2d2faefb-c239-43f8-b250-db741e4369bf",
        "executionStartTime": 1633988333774,
        "executionStopTime": 1633988333789
      },
      "source": [
        "u = ta.Column(list(range(5)))\n",
        "v = -u\n",
        "w = v+1\n",
        "v*w"
      ],
      "execution_count": 28,
      "outputs": [
        {
          "output_type": "execute_result",
          "data": {
            "text/plain": "0   0\n1   0\n2   2\n3   6\n4  12\ndtype: int64, length: 5, null_count: 0"
          },
          "metadata": {
            "bento_obj_id": "139691332408896"
          },
          "execution_count": 28
        }
      ]
    },
    {
      "cell_type": "code",
      "metadata": {
        "originalKey": "f360a49e-69fc-4aee-b44f-1f3c5cdf228e",
        "collapsed": false,
        "requestMsgId": "443247e5-d8de-43cf-bd08-7f15435d6b24",
        "executionStartTime": 1633988333793,
        "executionStopTime": 1633988333862
      },
      "source": [
        "uv = ta.DataFrame({\"a\": u, \"b\": v})\n",
        "uu = ta.DataFrame({\"a\": u, \"b\": u})\n",
        "(uv == uu)\n",
        ""
      ],
      "execution_count": 29,
      "outputs": [
        {
          "output_type": "execute_result",
          "data": {
            "text/plain": "  index    a    b\n-------  ---  ---\n      0    1    1\n      1    1    0\n      2    1    0\n      3    1    0\n      4    1    0\ndtype: Struct([Field('a', boolean), Field('b', boolean)]), count: 5, null_count: 0"
          },
          "metadata": {
            "bento_obj_id": "139691090197184"
          },
          "execution_count": 29
        }
      ]
    },
    {
      "cell_type": "markdown",
      "metadata": {
        "originalKey": "0bb4874d-5fb3-4e5d-b9dd-21e9b5fee7d0"
      },
      "source": [
        "## Null strictness\n",
        "\n",
        "The default behavior of torcharrow operators and functions is that *if any argument is null then the result is null*. For instance:"
      ]
    },
    {
      "cell_type": "code",
      "metadata": {
        "originalKey": "584b249b-fc70-408e-a1a4-75fd1ab52175",
        "collapsed": false,
        "requestMsgId": "540a4fc0-fa9e-4002-997d-8390d3eabab4",
        "executionStartTime": 1633988333870,
        "executionStopTime": 1633988333956
      },
      "source": [
        "u = ta.Column([1, None, 3])\n",
        "v = ta.Column([11, None, None])\n",
        "u + v\n",
        ""
      ],
      "execution_count": 30,
      "outputs": [
        {
          "output_type": "execute_result",
          "data": {
            "text/plain": "0  12\n1  None\n2  None\ndtype: Int64(nullable=True), length: 3, null_count: 2"
          },
          "metadata": {
            "bento_obj_id": "139691089688992"
          },
          "execution_count": 30
        }
      ]
    },
    {
      "cell_type": "markdown",
      "metadata": {
        "originalKey": "34afb2e5-3371-4f1a-8bfd-4298b06e7cc1",
        "showInput": false,
        "code_folding": [],
        "hidden_ranges": []
      },
      "source": [
        "If null strictness does not work for your code you could call first `fillna` to provide a value that is used instead of null. "
      ]
    },
    {
      "cell_type": "markdown",
      "metadata": {
        "originalKey": "f881f3a1-695e-49f2-a4c4-f2d450b0b8f8"
      },
      "source": [
        "## Numerical columns and descriptive statistics\n",
        "Numerical columns also support lifted operations, for `abs`, `ceil`, `floor`, `round`. Even more excited might be to use their aggregation operators like `count`, `sum`, `prod`, `min`, `max`, or descriptive statistics like `std`, `mean`, `median`, and `mode`. Here is an example ensemble:\n",
        ""
      ]
    },
    {
      "cell_type": "code",
      "metadata": {
        "originalKey": "35e23de6-bdcc-4a13-98e8-20c63a1c9ec9",
        "collapsed": false,
        "requestMsgId": "504f6958-4550-4c4a-b664-49630248231f",
        "executionStartTime": 1633988334021,
        "executionStopTime": 1633988334029
      },
      "source": [
        "(t.min(), t.max(), t.sum(), t.mean())\n",
        ""
      ],
      "execution_count": 31,
      "outputs": [
        {
          "output_type": "execute_result",
          "data": {
            "text/plain": "(1, 999, 1006, 251.5)"
          },
          "metadata": {
            "bento_obj_id": "139691322527888"
          },
          "execution_count": 31
        }
      ]
    },
    {
      "cell_type": "markdown",
      "metadata": {
        "originalKey": "853e9d14-bf85-41e3-aa58-dde0fd40e257"
      },
      "source": [
        "The `describe` method puts this nicely together: "
      ]
    },
    {
      "cell_type": "code",
      "metadata": {
        "originalKey": "c54d0d1c-33ec-4ed2-b73f-1357ab235bf7",
        "collapsed": false,
        "requestMsgId": "310d6b29-8035-4d59-bfd0-d66fcadd1968",
        "executionStartTime": 1633988334038,
        "executionStopTime": 1633988334106
      },
      "source": [
        "t.describe()\n",
        ""
      ],
      "execution_count": 32,
      "outputs": [
        {
          "output_type": "execute_result",
          "data": {
            "text/plain": "  index  statistic      value\n-------  -----------  -------\n      0  count          4\n      1  mean         251.5\n      2  std          498.335\n      3  min            1\n      4  25%            1.5\n      5  50%            3\n      6  75%          501.5\n      7  max          999\ndtype: Struct([Field('statistic', string), Field('value', float64)]), count: 8, null_count: 0"
          },
          "metadata": {
            "bento_obj_id": "139691090022256"
          },
          "execution_count": 32
        }
      ]
    },
    {
      "cell_type": "markdown",
      "metadata": {
        "originalKey": "a32e5feb-1b97-40ba-9f9b-55c9e1ac30ff"
      },
      "source": [
        "Sum, prod, min and max are also available as accumulating operators called `cumsum`, `cumprod`, etc. \n",
        "\n",
        "Boolean vectors are very similar to numerical vector. They offer the aggregation operators `any` and `all`. "
      ]
    },
    {
      "cell_type": "markdown",
      "metadata": {
        "originalKey": "f7394df5-2c85-4ee1-b1fd-1511328f6f1e"
      },
      "source": [
        "## String, list and map methods\n",
        "Torcharrow provides all of Python's string, list and map processing methods, just lifted to work over columns. Like in Pandas they are all accessible via the `str`, `list` and `map` property, respectively.\n",
        "\n",
        "### Strings\n",
        "Let's capitalize a column of strings.\n",
        ""
      ]
    },
    {
      "cell_type": "code",
      "metadata": {
        "originalKey": "720ca841-ca65-4a9c-8f8f-0b0acdcf5579",
        "collapsed": false,
        "requestMsgId": "57a885f3-7bd5-45e8-b496-78a1db103a05",
        "executionStartTime": 1633988334114,
        "executionStopTime": 1633988334180
      },
      "source": [
        "s = ta.Column([\"what a wonderful world!\", \"really?\"])\n",
        "s.str.capitalize()\n",
        ""
      ],
      "execution_count": 33,
      "outputs": [
        {
          "output_type": "execute_result",
          "data": {
            "text/plain": "0  'What a wonderful world!'\n1  'Really?'\ndtype: string, length: 2, null_count: 0"
          },
          "metadata": {
            "bento_obj_id": "139691089937408"
          },
          "execution_count": 33
        }
      ]
    },
    {
      "cell_type": "markdown",
      "metadata": {
        "originalKey": "4b856c86-b8eb-4525-8a8f-f347a39e0d84"
      },
      "source": [
        "Split is more involved. We have to decide whether a string gets split into a list of strings or into spread over a set of columns. So split gets an extra parameter called expand: the default is that expand=False, in which case split return a list column, if expand=True split return a list of columns as a dataframe:"
      ]
    },
    {
      "cell_type": "code",
      "metadata": {
        "originalKey": "0c47506e-8c43-4350-914a-c57db5a92d77",
        "collapsed": false,
        "requestMsgId": "574dbe5c-f1e1-4a29-b9fe-fa9d50eab7dc",
        "executionStartTime": 1633988334188,
        "executionStopTime": 1633988334250
      },
      "source": [
        "ss = s.str.split(sep=\" \")\n",
        "ss\n",
        ""
      ],
      "execution_count": 34,
      "outputs": [
        {
          "output_type": "execute_result",
          "data": {
            "text/plain": "0  ['what', 'a', 'wonderful', 'world!']\n1  ['really?']\ndtype: List(string), length: 2, null_count: 0"
          },
          "metadata": {
            "bento_obj_id": "139691322367088"
          },
          "execution_count": 34
        }
      ]
    },
    {
      "cell_type": "code",
      "metadata": {
        "originalKey": "61ed600b-9e38-408b-a744-600081644519",
        "collapsed": false,
        "requestMsgId": "5d4e6962-fa10-4d84-92e7-dc30580f2094",
        "executionStartTime": 1633988334299,
        "executionStopTime": 1633988334306
      },
      "source": [
        "cs = s.str.split(sep=\" \", expand=True, maxsplit=2)\n",
        "cs\n",
        ""
      ],
      "execution_count": 35,
      "outputs": [
        {
          "output_type": "execute_result",
          "data": {
            "text/plain": "  index  0        1    2\n-------  -------  ---  ----------------\n      0  what     a    wonderful world!\n      1  really?\ndtype: Struct([Field('0', String(nullable=True)), Field('1', String(nullable=True)), Field('2', String(nullable=True))]), count: 2, null_count: 0"
          },
          "metadata": {
            "bento_obj_id": "139691089688560"
          },
          "execution_count": 35
        }
      ]
    },
    {
      "cell_type": "markdown",
      "metadata": {
        "originalKey": "f513aed1-7562-4c0c-8480-927d091171e8"
      },
      "source": [
        "### Lists\n",
        "\n",
        "To operate on a list column use the usual pure list operations, like `len(gth)`, `slice`, `index` and `count`, etc. But there are a couple of additional operations. \n",
        "\n",
        "For instance to invert the result of a string split operation a list of string column also offers a join operation. \n",
        ""
      ]
    },
    {
      "cell_type": "code",
      "metadata": {
        "originalKey": "e1ed5360-1fc0-4002-9fd8-d18a739f45ba",
        "collapsed": false,
        "requestMsgId": "a289c6c5-6989-43df-b351-1727bd5fb36f",
        "executionStartTime": 1633988334375,
        "executionStopTime": 1633988334405
      },
      "source": [
        "ss.list.join(sep=\"-\")\n",
        ""
      ],
      "execution_count": 36,
      "outputs": [
        {
          "output_type": "execute_result",
          "data": {
            "text/plain": "0  'what-a-wonderful-world!'\n1  'really?'\ndtype: string, length: 2, null_count: 0"
          },
          "metadata": {
            "bento_obj_id": "139691089576240"
          },
          "execution_count": 36
        }
      ]
    },
    {
      "cell_type": "markdown",
      "metadata": {
        "originalKey": "f99c3d87-0db8-4ace-a3d6-9b07c36cb2d1",
        "showInput": false,
        "code_folding": [],
        "hidden_ranges": []
      },
      "source": [
        "In addition lists provide `filter`, `map`, `flatmap` and `reduce` operators, which we will discuss as in more details in functional tools.\n",
        "\n",
        "### Maps\n",
        "\n",
        "Column of type map provide the usual map operations like `len(gth)`, `[]`, `keys` and `values`. Keys and values both return a list column. Key and value columns can be reassembled by calling `mapsto`."
      ]
    },
    {
      "cell_type": "code",
      "metadata": {
        "originalKey": "f67591a7-3a1c-458c-98ba-5d4ebf1f80f8",
        "collapsed": false,
        "requestMsgId": "de368152-9a3e-4b7c-95a7-a441fdd89485",
        "executionStartTime": 1633988334408,
        "executionStopTime": 1633988334506,
        "code_folding": [],
        "hidden_ranges": []
      },
      "source": [
        "mf.maps.keys()\n",
        ""
      ],
      "execution_count": 37,
      "outputs": [
        {
          "output_type": "execute_result",
          "data": {
            "text/plain": "0  ['helsinki', 'moscow']\n1  ['algiers', 'kinshasa']\ndtype: List(string), length: 2, null_count: 0"
          },
          "metadata": {
            "bento_obj_id": "139691332410096"
          },
          "execution_count": 37
        }
      ]
    },
    {
      "cell_type": "markdown",
      "metadata": {
        "originalKey": "a95314d4-cec7-425f-afc9-253f29786966",
        "showInput": false,
        "code_folding": [],
        "hidden_ranges": []
      },
      "source": [
        "## Relational tools: Where, select, groupby, join, etc.\n",
        " \n",
        "TorchArrow also plans to support all relational operators on DataFrame. The following sections discuss what exists today.\n",
        "\n",
        "### Where\n",
        "The simplest operator is `df.where(p)` which is just another way of writing `df[p]`. (Note: TorchArrow's `where`  is not Pandas' `where`, the latter is a vectorized if-then-else which we call in Torcharrow `ite`.)"
      ]
    },
    {
      "cell_type": "code",
      "metadata": {
        "originalKey": "1431a9b4-a662-4d67-b4b5-37d1ae95de19",
        "collapsed": false,
        "requestMsgId": "107c808a-08e8-4f98-b1b0-45d6294a8b75",
        "executionStartTime": 1633988334515,
        "executionStopTime": 1633988334560
      },
      "source": [
        "xf = ta.DataFrame({\"A\": [\"a\", \"b\", \"a\", \"b\"], \"B\": [1, 2, 3, 4], \"C\": [10, 11, 12, 13]})\n",
        "\n",
        "xf.where(xf[\"B\"] > 2)\n",
        ""
      ],
      "execution_count": 38,
      "outputs": [
        {
          "output_type": "execute_result",
          "data": {
            "text/plain": "  index  A      B    C\n-------  ---  ---  ---\n      0  a      3   12\n      1  b      4   13\ndtype: Struct([Field('A', string), Field('B', int64), Field('C', int64)]), count: 2, null_count: 0"
          },
          "metadata": {
            "bento_obj_id": "139691089619264"
          },
          "execution_count": 38
        }
      ]
    },
    {
      "cell_type": "markdown",
      "metadata": {
        "originalKey": "0b3978da-ebd6-41bd-8f6e-0cbc644900a1"
      },
      "source": [
        "Note that in `xf.where` the predicate `xf['B']>2` refers to self, i.e. `xf`. To access self in an expression TorchArrow introduces the special name `me`. That is, we can also write:\n",
        ""
      ]
    },
    {
      "cell_type": "code",
      "metadata": {
        "originalKey": "596257de-ba4f-4e36-92e7-7d683e713952",
        "collapsed": false,
        "requestMsgId": "39e9810c-f236-473e-9aa9-22faf539062f",
        "executionStartTime": 1633988334616,
        "executionStopTime": 1633988334634
      },
      "source": [
        "from torcharrow import me\n",
        "\n",
        "\n",
        "xf.where(me[\"B\"] > 2)\n",
        ""
      ],
      "execution_count": 39,
      "outputs": [
        {
          "output_type": "execute_result",
          "data": {
            "text/plain": "  index  A      B    C\n-------  ---  ---  ---\n      0  a      3   12\n      1  b      4   13\ndtype: Struct([Field('A', string), Field('B', int64), Field('C', int64)]), count: 2, null_count: 0"
          },
          "metadata": {
            "bento_obj_id": "139691089620512"
          },
          "execution_count": 39
        }
      ]
    },
    {
      "cell_type": "markdown",
      "metadata": {
        "originalKey": "d8e4aa12-ef6a-4083-83f9-bbdb5d36ba45"
      },
      "source": [
        "### Select\n",
        "\n",
        "Select is SQL's standard way to define a new set of columns. We use *positional args to keep columns and kwargs to give new bindings. Here is a typical example that keeps all of xf's columns but adds column 'D').\n",
        ""
      ]
    },
    {
      "cell_type": "code",
      "metadata": {
        "originalKey": "3c7cde88-943f-4095-b131-366dfe17a995",
        "code_folding": [],
        "hidden_ranges": [],
        "collapsed": false,
        "requestMsgId": "02412b68-43dd-4d8f-923d-12a0de572f8e",
        "executionStartTime": 1633988334685,
        "executionStopTime": 1633988334705
      },
      "source": [
        "xf.select(*xf.columns, D=me[\"B\"] + me[\"C\"])\n",
        ""
      ],
      "execution_count": 40,
      "outputs": [
        {
          "output_type": "execute_result",
          "data": {
            "text/plain": "  index  A      B    C    D\n-------  ---  ---  ---  ---\n      0  a      1   10   11\n      1  b      2   11   13\n      2  a      3   12   15\n      3  b      4   13   17\ndtype: Struct([Field('A', string), Field('B', int64), Field('C', int64), Field('D', int64)]), count: 4, null_count: 0"
          },
          "metadata": {
            "bento_obj_id": "139691089597440"
          },
          "execution_count": 40
        }
      ]
    },
    {
      "cell_type": "markdown",
      "metadata": {
        "originalKey": "e89a5432-5d10-40ec-9987-63b8399ba25b"
      },
      "source": [
        "The short form of `*xf.columns` is '\\*', so `xf.select('*', D=me['B']+me['C'])` does the same."
      ]
    },
    {
      "cell_type": "markdown",
      "metadata": {
        "originalKey": "56bb0cc8-5e35-4ff6-b3e2-8256759940c3",
        "showInput": false,
        "code_folding": [],
        "hidden_ranges": []
      },
      "source": [
        "### Grouping, Join and Tranpose\n",
        "\n",
        "Coming soon!\n",
        ""
      ]
    },
    {
      "cell_type": "markdown",
      "metadata": {
        "originalKey": "742b4d90-a2a6-49bc-ac66-274a4788f024",
        "showInput": false,
        "code_folding": [],
        "hidden_ranges": []
      },
      "source": [
        "## Functional tools:  map, filter, reduce\n",
        "\n",
        "Column and dataframe pipelines support map/reduce style programming as well. We first explore column oriented operations.\n",
        "\n",
        "###  Map and its variations\n",
        "\n",
        "`map` maps values of a column according to input correspondence. The input correspondence can be given as a mapping or as a (user-defined-) function (UDF). If the mapping is a dict, then non mapped values become null.\n",
        "\n",
        "\n",
        ""
      ]
    },
    {
      "cell_type": "code",
      "metadata": {
        "originalKey": "4e209a20-1d22-408a-9912-bfe7c16194fc",
        "collapsed": false,
        "requestMsgId": "8437438f-b5a8-4ee1-b58b-0acb697551db",
        "executionStartTime": 1633988334713,
        "executionStopTime": 1633988334823
      },
      "source": [
        "ta.Column([1, 2, None, 4]).map({1: 111})\n",
        ""
      ],
      "execution_count": 41,
      "outputs": [
        {
          "output_type": "execute_result",
          "data": {
            "text/plain": "0  111\n1  None\n2  None\n3  None\ndtype: Int64(nullable=True), length: 4, null_count: 3"
          },
          "metadata": {
            "bento_obj_id": "139691089598784"
          },
          "execution_count": 41
        }
      ]
    },
    {
      "cell_type": "markdown",
      "metadata": {
        "originalKey": "caa8bf1c-0f58-4805-bcff-c61662acf8d4"
      },
      "source": [
        "If the mapping is a defaultdict, all values will be mapped as described by the default dict."
      ]
    },
    {
      "cell_type": "code",
      "metadata": {
        "originalKey": "4eb3a3e9-1931-4cb6-940c-7f35308f4d31",
        "code_folding": [],
        "hidden_ranges": [],
        "collapsed": false,
        "requestMsgId": "58664bc7-46c5-4841-8194-dd0605bad436",
        "executionStartTime": 1633988334833,
        "executionStopTime": 1633988334884
      },
      "source": [
        "from collections import defaultdict\n",
        "ta.Column([1, 2, None, 4]).map(defaultdict(lambda: -1, {1: 111}))\n",
        ""
      ],
      "execution_count": 42,
      "outputs": [
        {
          "output_type": "execute_result",
          "data": {
            "text/plain": "0  111\n1   -1\n2   -1\n3   -1\ndtype: Int64(nullable=True), length: 4, null_count: 0"
          },
          "metadata": {
            "bento_obj_id": "139691089598352"
          },
          "execution_count": 42
        }
      ]
    },
    {
      "cell_type": "markdown",
      "metadata": {
        "originalKey": "4659e6bd-3f96-4da8-ac5a-65dc69e3597f",
        "showInput": false,
        "code_folding": [],
        "hidden_ranges": []
      },
      "source": [
        "**Handling null.** If the mapping is a function, then it will be applied on all values (including null), unless na_action is `'ignore'`, in which case, null values are passed through."
      ]
    },
    {
      "cell_type": "code",
      "metadata": {
        "originalKey": "6240d2f6-4f99-4abc-84a3-e6368de73241",
        "code_folding": [],
        "hidden_ranges": [],
        "collapsed": false,
        "requestMsgId": "857a2973-43d3-4233-85a8-4baed5989c76",
        "executionStartTime": 1633988334933,
        "executionStopTime": 1633988334947
      },
      "source": [
        "def add_ten(num):\n",
        "    return num + 10\n",
        "\n",
        "ta.Column([1, 2, None, 4]).map(add_ten, na_action=\"ignore\")\n",
        ""
      ],
      "execution_count": 43,
      "outputs": [
        {
          "output_type": "execute_result",
          "data": {
            "text/plain": "0  11\n1  12\n2  None\n3  14\ndtype: Int64(nullable=True), length: 4, null_count: 1"
          },
          "metadata": {
            "bento_obj_id": "139691089579312"
          },
          "execution_count": 43
        }
      ]
    },
    {
      "cell_type": "markdown",
      "metadata": {
        "originalKey": "f54c5108-4bd7-442c-ba78-4dfefb602283",
        "showInput": false,
        "code_folding": [],
        "hidden_ranges": []
      },
      "source": [
        "Note that `.map(add_ten, na_action=None)` would fail with a type error since `addten` is not defined for `None`/null. So if we wanted to pass null to `add_ten` we would have to prepare for it, maybe like so:"
      ]
    },
    {
      "cell_type": "code",
      "metadata": {
        "originalKey": "03a83f8d-2deb-4f46-ad66-c3c9fa4f288c",
        "collapsed": false,
        "requestMsgId": "2c657ba6-07d3-4d43-8680-b331de040980",
        "executionStartTime": 1633988334950,
        "executionStopTime": 1633988335010
      },
      "source": [
        "def add_ten_or_0(num):\n",
        "    return 0 if num is None else num + 10\n",
        "\n",
        "\n",
        "ta.Column([1, 2, None, 4]).map(add_ten_or_0, na_action=None)\n",
        ""
      ],
      "execution_count": 44,
      "outputs": [
        {
          "output_type": "execute_result",
          "data": {
            "text/plain": "0  11\n1  12\n2   0\n3  14\ndtype: Int64(nullable=True), length: 4, null_count: 0"
          },
          "metadata": {
            "bento_obj_id": "139691089620224"
          },
          "execution_count": 44
        }
      ]
    },
    {
      "cell_type": "markdown",
      "metadata": {
        "originalKey": "f68be658-91fd-4f8a-a227-f16556e6653e",
        "showInput": false
      },
      "source": [
        "**Mapping to different types.** If `map` returns a column type that is different from the input column type, then `map` has to specify the returned column type. "
      ]
    },
    {
      "cell_type": "code",
      "metadata": {
        "originalKey": "d465dc4d-5194-4792-bd52-e608031f2d36",
        "collapsed": false,
        "requestMsgId": "43571ae6-0263-4f63-832a-bbc78a10766c",
        "executionStartTime": 1633988335054,
        "executionStopTime": 1633988335103
      },
      "source": [
        "ta.Column([1,2,3,4]).map(str, dtype=dt.string)"
      ],
      "execution_count": 45,
      "outputs": [
        {
          "output_type": "execute_result",
          "data": {
            "text/plain": "0  '1'\n1  '2'\n2  '3'\n3  '4'\ndtype: string, length: 4, null_count: 0"
          },
          "metadata": {
            "bento_obj_id": "139691089598256"
          },
          "execution_count": 45
        }
      ]
    },
    {
      "cell_type": "markdown",
      "metadata": {
        "originalKey": "35e01316-0e48-41d2-b944-7d5a56ac531a",
        "showInput": false,
        "customInput": null,
        "code_folding": [],
        "hidden_ranges": []
      },
      "source": [
        "Instead of specifying `dtype` argument, you can also rely on type annotations (both Python annotations and `dtypes` are supported):"
      ]
    },
    {
      "cell_type": "code",
      "metadata": {
        "originalKey": "0dc15824-2e42-425f-972d-44c7880d264f",
        "showInput": true,
        "customInput": null,
        "code_folding": [],
        "hidden_ranges": [],
        "collapsed": false,
        "requestMsgId": "281ab079-6778-42f0-aed5-e30058877226",
        "executionStartTime": 1633988335176,
        "executionStopTime": 1633988335201
      },
      "source": [
        "from typing import Optional\n",
        "\n",
        "\n",
        "def str_only_even(x) -> Optional[str]:\n",
        "    if x % 2 == 0:\n",
        "        return str(x)\n",
        "    return None\n",
        "\n",
        "\n",
        "ta.Column([1, 2, 3, 4]).map(str_only_even)  # dt.string(nullable=True) is inferred\n",
        ""
      ],
      "execution_count": 46,
      "outputs": [
        {
          "output_type": "execute_result",
          "data": {
            "text/plain": "0  None\n1  '2'\n2  None\n3  '4'\ndtype: String(nullable=True), length: 4, null_count: 2"
          },
          "metadata": {
            "bento_obj_id": "139691089577104"
          },
          "execution_count": 46
        }
      ]
    },
    {
      "cell_type": "markdown",
      "metadata": {
        "originalKey": "0eb9d1ab-cf36-4310-bcdb-d560de27a932"
      },
      "source": [
        "**Map over Dataframes** Of course, `map` works over Dataframes, too. In this case the callable gets the whole row as a tuple. "
      ]
    },
    {
      "cell_type": "code",
      "metadata": {
        "originalKey": "2bbc619c-37cb-4dab-9c24-31e673d3d66a",
        "collapsed": false,
        "requestMsgId": "eed4fc03-e0f5-4b71-a703-cefcf87fb194",
        "executionStartTime": 1633988335209,
        "executionStopTime": 1633988335254
      },
      "source": [
        "def add_unary(tup):\n",
        "    return tup[0] + tup[1]\n",
        "\n",
        "\n",
        "ta.DataFrame({\"a\": [1, 2, 3], \"b\": [1, 2, 3]}).map(add_unary, dtype=dt.int64)\n",
        ""
      ],
      "execution_count": 47,
      "outputs": [
        {
          "output_type": "execute_result",
          "data": {
            "text/plain": "0  2\n1  4\n2  6\ndtype: int64, length: 3, null_count: 0"
          },
          "metadata": {
            "bento_obj_id": "139691089765904"
          },
          "execution_count": 47
        }
      ]
    },
    {
      "cell_type": "markdown",
      "metadata": {
        "originalKey": "9cf337cc-6bb3-494a-9c28-f35cfa4a8328",
        "showInput": false,
        "code_folding": [],
        "hidden_ranges": []
      },
      "source": [
        "**Multi-parameter functions**. So far all our functions were unary functions. But `map` can be used for n-ary functions, too: simply specify the set of `columns` you want to pass to the nary function. \n",
        ""
      ]
    },
    {
      "cell_type": "code",
      "metadata": {
        "originalKey": "8a6550ba-83e5-4b53-91aa-304cdad5c13b",
        "collapsed": false,
        "requestMsgId": "f8a6ada4-f661-4abf-bd63-f7d56b72921e",
        "executionStartTime": 1633988335298,
        "executionStopTime": 1633988335349
      },
      "source": [
        "def add_binary(a, b):\n",
        "    return a + b\n",
        "\n",
        "\n",
        "ta.DataFrame({\"a\": [1, 2, 3], \"b\": [\"a\", \"b\", \"c\"], \"c\": [1, 2, 3]}).map(\n",
        "    add_binary, columns=[\"a\", \"c\"], dtype=dt.int64\n",
        ")\n",
        ""
      ],
      "execution_count": 48,
      "outputs": [
        {
          "output_type": "execute_result",
          "data": {
            "text/plain": "0  2\n1  4\n2  6\ndtype: int64, length: 3, null_count: 0"
          },
          "metadata": {
            "bento_obj_id": "139691089774096"
          },
          "execution_count": 48
        }
      ]
    },
    {
      "cell_type": "markdown",
      "metadata": {
        "originalKey": "c6c7c552-fa66-44cd-9b6c-d73d53bfeafb",
        "showInput": false,
        "code_folding": [],
        "hidden_ranges": []
      },
      "source": [
        "**Multi-return functions.** Functions that return more than one column can be specified by returning a dataframe  (aka as struct column); providing the  return type is mandatory."
      ]
    },
    {
      "cell_type": "code",
      "metadata": {
        "originalKey": "b3833f37-3531-4105-b654-5cd6ccea9157",
        "collapsed": false,
        "requestMsgId": "2691361d-6b13-4c43-96bc-64bff55cde6a",
        "executionStartTime": 1633988335405,
        "executionStopTime": 1633988335412
      },
      "source": [
        "ta.DataFrame({\"a\": [17, 29, 30], \"b\": [3, 5, 11]}).map(\n",
        "    divmod,\n",
        "    columns=[\"a\", \"b\"],\n",
        "    dtype=dt.Struct([dt.Field(\"quotient\", dt.int64), dt.Field(\"remainder\", dt.int64)]),\n",
        ")\n",
        ""
      ],
      "execution_count": 49,
      "outputs": [
        {
          "output_type": "execute_result",
          "data": {
            "text/plain": "  index    quotient    remainder\n-------  ----------  -----------\n      0           5            2\n      1           5            4\n      2           2            8\ndtype: Struct([Field('quotient', int64), Field('remainder', int64)]), count: 3, null_count: 0"
          },
          "metadata": {
            "bento_obj_id": "139691089287824"
          },
          "execution_count": 49
        }
      ]
    },
    {
      "cell_type": "markdown",
      "metadata": {
        "originalKey": "ed8915a6-e9c6-4c90-8554-0435bc71285f",
        "showInput": false,
        "code_folding": [],
        "hidden_ranges": []
      },
      "source": [
        "**Functions with state**. Functions need sometimes additional precomputed state. We capture the state in a (data)class and use a method as a delegate:\n",
        " "
      ]
    },
    {
      "cell_type": "code",
      "metadata": {
        "originalKey": "25447228-dad1-40de-b839-6a537d98c898",
        "collapsed": false,
        "requestMsgId": "c469043f-62a4-422f-8063-ce556ca75a24",
        "executionStartTime": 1633988335511,
        "executionStopTime": 1633988335529
      },
      "source": [
        "def fib(n):\n",
        "    if n == 0:\n",
        "        return 0\n",
        "    elif n == 1 or n == 2:\n",
        "        return 1\n",
        "    else:\n",
        "        return fib(n - 1) + fib(n - 2)\n",
        "\n",
        "\n",
        "from dataclasses import dataclass\n",
        "\n",
        "\n",
        "@dataclass\n",
        "class State:\n",
        "    state: int\n",
        "\n",
        "    def __post_init__(self):\n",
        "        self.state = fib(self.state)\n",
        "\n",
        "    def add_fib(self, x):\n",
        "        return self.state + x\n",
        "\n",
        "\n",
        "m = State(10)\n",
        "ta.Column([1, 2, 3]).map(m.add_fib)\n",
        ""
      ],
      "execution_count": 50,
      "outputs": [
        {
          "output_type": "execute_result",
          "data": {
            "text/plain": "0  56\n1  57\n2  58\ndtype: int64, length: 3, null_count: 0"
          },
          "metadata": {
            "bento_obj_id": "139691089285856"
          },
          "execution_count": 50
        }
      ]
    },
    {
      "cell_type": "markdown",
      "metadata": {
        "originalKey": "633585eb-b00a-42fb-b07d-9e152d79d868"
      },
      "source": [
        "TorchArrow requires that only global functions or methods on class instances can be used as user defined functions. Lambdas, which can can capture arbitrary state and are not inspectable, are not supported. "
      ]
    },
    {
      "cell_type": "markdown",
      "metadata": {
        "originalKey": "204583d2-957e-49eb-8648-fae4f6631508",
        "showInput": false,
        "code_folding": [],
        "hidden_ranges": []
      },
      "source": [
        "### Filter\n",
        "\n",
        "`filter` takes a predicate and returns all those rows for which the predicate holds: "
      ]
    },
    {
      "cell_type": "code",
      "metadata": {
        "originalKey": "5f4992c1-5750-4bbb-93cf-4d8af57a9f24",
        "collapsed": false,
        "requestMsgId": "4f11fb0e-c6b1-4462-9cb2-1aeb1fa6d1cf",
        "executionStartTime": 1633988335536,
        "executionStopTime": 1633988335613,
        "code_folding": [],
        "hidden_ranges": []
      },
      "source": [
        "ta.Column([1, 2, 3, 4]).filter(lambda x: x % 2 == 1)\n",
        ""
      ],
      "execution_count": 51,
      "outputs": [
        {
          "output_type": "execute_result",
          "data": {
            "text/plain": "0  1\n1  3\ndtype: int64, length: 2, null_count: 0"
          },
          "metadata": {
            "bento_obj_id": "139691089767392"
          },
          "execution_count": 51
        }
      ]
    },
    {
      "cell_type": "markdown",
      "metadata": {
        "originalKey": "ae7c9b6c-12c2-4d24-a832-050f6faa0824",
        "showInput": false,
        "customInput": null,
        "code_folding": [],
        "hidden_ranges": []
      },
      "source": [
        "Instead of the predicate you can pass an iterable of boolean of the same length as the column: "
      ]
    },
    {
      "cell_type": "code",
      "metadata": {
        "originalKey": "14fa8c22-28ab-4426-8dd2-4c7c512a1774",
        "showInput": true,
        "customInput": null,
        "code_folding": [],
        "hidden_ranges": [],
        "collapsed": false,
        "requestMsgId": "20556a49-36ed-42b4-b659-0f90620ff96b",
        "executionStartTime": 1633988335639,
        "executionStopTime": 1633988335678
      },
      "source": [
        "ta.Column([1, 2, 3, 4]).filter([True, False, True, False])\n",
        ""
      ],
      "execution_count": 52,
      "outputs": [
        {
          "output_type": "execute_result",
          "data": {
            "text/plain": "0  1\n1  3\ndtype: int64, length: 2, null_count: 0"
          },
          "metadata": {
            "bento_obj_id": "139691089772752"
          },
          "execution_count": 52
        }
      ]
    },
    {
      "cell_type": "markdown",
      "metadata": {
        "originalKey": "8b2287d7-3bd2-4537-9b46-ac2719c9afae"
      },
      "source": [
        "If the predicate is an n-ary function, use the  `columns` argument as we have seen for `map`.  "
      ]
    },
    {
      "cell_type": "markdown",
      "metadata": {
        "originalKey": "45bbae99-d28d-4abf-aa72-6783a3ef8bbf"
      },
      "source": [
        "### Flatmap\n",
        "\n",
        "`flatmap` combines `map` with `filter`. Each callable can return a list of elements. If that list is empty, flatmap filters, if the returned list is a singleton, flatmap acts like map, if it returns several elements it 'explodes' the input. Here is an example: "
      ]
    },
    {
      "cell_type": "code",
      "metadata": {
        "originalKey": "dd033013-f74d-4e7f-b5f6-268045e3e2ae",
        "collapsed": false,
        "requestMsgId": "aebd077f-4d6d-4f70-a5ca-74b0dd293671",
        "executionStartTime": 1633988335735,
        "executionStopTime": 1633988335747,
        "code_folding": [],
        "hidden_ranges": []
      },
      "source": [
        "def selfish(words):\n",
        "    return [words, words] if len(words) >= 1 and words[0] == \"I\" else []\n",
        "\n",
        "\n",
        "sf.flatmap(selfish)\n",
        ""
      ],
      "execution_count": 53,
      "outputs": [
        {
          "output_type": "execute_result",
          "data": {
            "text/plain": "0  ['I', 'am', 'fine', 'and', 'you']\n1  ['I', 'am', 'fine', 'and', 'you']\ndtype: List(string), length: 2, null_count: 0"
          },
          "metadata": {
            "bento_obj_id": "139691089776400"
          },
          "execution_count": 53
        }
      ]
    },
    {
      "cell_type": "markdown",
      "metadata": {
        "originalKey": "4a799910-d97a-4b15-9d38-cb17ccd04c82"
      },
      "source": [
        "`flatmap` has all the flexibility of `map`, i.e it can take the `ignore`, `dtype` and `column` arguments."
      ]
    },
    {
      "cell_type": "markdown",
      "metadata": {
        "originalKey": "2d9bb235-befb-4f54-bc71-e83e80b4cdbc"
      },
      "source": [
        "### Reduce\n",
        "`reduce` is just like Python's `reduce`. Here we compute the product of a column."
      ]
    },
    {
      "cell_type": "code",
      "metadata": {
        "originalKey": "51106561-5cae-4981-80fa-576323a2cfc1",
        "collapsed": false,
        "requestMsgId": "34d94c49-7288-40d0-b817-a88cc15be155",
        "executionStartTime": 1633988335781,
        "executionStopTime": 1633988335825
      },
      "source": [
        "import operator\n",
        "\n",
        "\n",
        "ta.Column([1, 2, 3, 4]).reduce(operator.mul)\n",
        ""
      ],
      "execution_count": 54,
      "outputs": [
        {
          "output_type": "execute_result",
          "data": {
            "text/plain": "24"
          },
          "metadata": {
            "bento_obj_id": "139691332416912"
          },
          "execution_count": 54
        }
      ]
    },
    {
      "cell_type": "markdown",
      "metadata": {
        "originalKey": "f79135d9-2065-40c2-a7f0-3a41d3a0994b",
        "showInput": false,
        "customInput": null,
        "code_folding": [],
        "hidden_ranges": []
      },
      "source": [
        "## Batch Transform\n",
        ""
      ]
    },
    {
      "cell_type": "markdown",
      "metadata": {
        "originalKey": "4700612a-3ab9-4228-bed0-e69b3614650d",
        "showInput": false,
        "customInput": null,
        "code_folding": [],
        "hidden_ranges": []
      },
      "source": [
        "Batch `transform` is simliar to `map`, except the functions takes batch input/output (represented by a Python list, PyTorch tensors, etc)."
      ]
    },
    {
      "cell_type": "code",
      "metadata": {
        "originalKey": "d982927b-9bc2-4153-8c0f-6d9f6787c63a",
        "showInput": true,
        "customInput": null,
        "code_folding": [],
        "hidden_ranges": [],
        "collapsed": false,
        "requestMsgId": "9d8c9a7a-3080-4d84-8c32-8e5aeffeea81",
        "executionStartTime": 1633988335875,
        "executionStopTime": 1633988335927
      },
      "source": [
        "from typing import List\n",
        "\n",
        "\n",
        "def multiple_ten(val: List[int]) -> List[int]:\n",
        "    return [x * 10 for x in val]\n",
        "\n",
        "\n",
        "ta.Column([1, 2, 3, 4]).transform(multiple_ten, format=\"python\")\n",
        ""
      ],
      "execution_count": 55,
      "outputs": [
        {
          "output_type": "execute_result",
          "data": {
            "text/plain": "0  10\n1  20\n2  30\n3  40\ndtype: int64, length: 4, null_count: 0"
          },
          "metadata": {
            "bento_obj_id": "139691089764560"
          },
          "execution_count": 55
        }
      ]
    },
    {
      "cell_type": "code",
      "metadata": {
        "originalKey": "e7a2d8bf-7fd5-472c-8a97-6d8c9a60b71b",
        "code_folding": [],
        "hidden_ranges": [],
        "collapsed": false,
        "requestMsgId": "07bc1cd8-7961-4ec6-8fbd-5b097b7f6bd3",
        "executionStartTime": 1633988335978,
        "executionStopTime": 1633988335987
      },
      "source": [
        "\"End of tutorial\"\n",
        ""
      ],
      "execution_count": 56,
      "outputs": [
        {
          "output_type": "execute_result",
          "data": {
            "text/plain": "'End of tutorial'"
          },
          "metadata": {
            "bento_obj_id": "139691089309936"
          },
          "execution_count": 56
        }
      ]
    }
  ]
}
